{
 "cells": [
  {
   "cell_type": "code",
   "execution_count": 1,
   "metadata": {},
   "outputs": [],
   "source": [
    "url_path = \"https://podaac-opendap.jpl.nasa.gov/opendap/allData/tellus/L3/gldas_monthly/netcdf/\"\n",
    "url = url_path + \"GLDAS-NOAH_1deg_tws_anomaly_monthly_2002094-2002120.nc\"\n",
    "catalog = 'http://www.unidata.ucar.edu/namespaces/thredds/InvCatalog/v1.0'\n",
    "wcs_try = 'https://thredds.jpl.nasa.gov/thredds/wcs?dataset=/allData/tellus/L3/grace/land_mass/RL06/v03/CSR'\n",
    "dataset_id = (\n",
    "    '/opendap/hyrax/allData/tellus/L3/grace/land_mass/RL06/v03/CSR/'\n",
    "    'GRD-3_2002095-2002120_GRAC_UTCSR_BA01_0600_LND_v03.nc'\n",
    ")\n",
    "wcs_try = (\n",
    "    'https://thredds.jpl.nasa.gov/thredds/wcs?dataset='\n",
    "    '/opendap/hyrax/allData/tellus/L3/grace/land_mass/RL06/v03/CSR/'\n",
    "    'GRD-3_2002095-2002120_GRAC_UTCSR_BA01_0600_LND_v03.nc'\n",
    ")\n"
   ]
  },
  {
   "cell_type": "code",
   "execution_count": 2,
   "metadata": {},
   "outputs": [],
   "source": [
    "from owslib.wcs import WebCoverageService"
   ]
  },
  {
   "cell_type": "code",
   "execution_count": 3,
   "metadata": {},
   "outputs": [
    {
     "ename": "ParseError",
     "evalue": "mismatched tag: line 1, column 1041 (<string>)",
     "output_type": "error",
     "traceback": [
      "Traceback \u001b[0;36m(most recent call last)\u001b[0m:\n",
      "  File \u001b[1;32m\"/Users/pavel/Documents/jupyter/hydrograce/.venv/lib/python3.7/site-packages/IPython/core/interactiveshell.py\"\u001b[0m, line \u001b[1;32m3331\u001b[0m, in \u001b[1;35mrun_code\u001b[0m\n    exec(code_obj, self.user_global_ns, self.user_ns)\n",
      "  File \u001b[1;32m\"<ipython-input-3-f8e980b4aa70>\"\u001b[0m, line \u001b[1;32m1\u001b[0m, in \u001b[1;35m<module>\u001b[0m\n    my_wcs = WebCoverageService(wcs_try)\n",
      "  File \u001b[1;32m\"/Users/pavel/Documents/jupyter/hydrograce/.venv/lib/python3.7/site-packages/owslib/wcs.py\"\u001b[0m, line \u001b[1;32m34\u001b[0m, in \u001b[1;35mWebCoverageService\u001b[0m\n    capabilities = etree.etree.fromstring(xml)\n",
      "\u001b[0;36m  File \u001b[0;32m\"/usr/local/Cellar/python/3.7.7/Frameworks/Python.framework/Versions/3.7/lib/python3.7/xml/etree/ElementTree.py\"\u001b[0;36m, line \u001b[0;32m1315\u001b[0;36m, in \u001b[0;35mXML\u001b[0;36m\u001b[0m\n\u001b[0;31m    parser.feed(text)\u001b[0m\n",
      "\u001b[0;36m  File \u001b[0;32m\"<string>\"\u001b[0;36m, line \u001b[0;32munknown\u001b[0m\n\u001b[0;31mParseError\u001b[0m\u001b[0;31m:\u001b[0m mismatched tag: line 1, column 1041\n"
     ]
    }
   ],
   "source": [
    "my_wcs = WebCoverageService(wcs_try)"
   ]
  },
  {
   "cell_type": "code",
   "execution_count": 10,
   "metadata": {},
   "outputs": [
    {
     "ename": "AttributeError",
     "evalue": "'NoneType' object has no attribute 'contents'",
     "output_type": "error",
     "traceback": [
      "\u001b[0;31m---------------------------------------------------------------------------\u001b[0m",
      "\u001b[0;31mAttributeError\u001b[0m                            Traceback (most recent call last)",
      "\u001b[0;32m<ipython-input-10-892c09d8ad46>\u001b[0m in \u001b[0;36m<module>\u001b[0;34m\u001b[0m\n\u001b[0;32m----> 1\u001b[0;31m \u001b[0mmy_wcs\u001b[0m\u001b[0;34m.\u001b[0m\u001b[0mcontents\u001b[0m\u001b[0;34m\u001b[0m\u001b[0;34m\u001b[0m\u001b[0m\n\u001b[0m",
      "\u001b[0;31mAttributeError\u001b[0m: 'NoneType' object has no attribute 'contents'"
     ]
    }
   ],
   "source": [
    "my_wcs.contents"
   ]
  },
  {
   "cell_type": "code",
   "execution_count": null,
   "metadata": {},
   "outputs": [],
   "source": []
  }
 ],
 "metadata": {
  "kernelspec": {
   "display_name": ".venv",
   "language": "python",
   "name": ".venv"
  },
  "language_info": {
   "codemirror_mode": {
    "name": "ipython",
    "version": 3
   },
   "file_extension": ".py",
   "mimetype": "text/x-python",
   "name": "python",
   "nbconvert_exporter": "python",
   "pygments_lexer": "ipython3",
   "version": "3.7.7"
  }
 },
 "nbformat": 4,
 "nbformat_minor": 4
}
