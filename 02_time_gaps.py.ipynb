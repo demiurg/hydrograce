{
 "cells": [
  {
   "cell_type": "code",
   "execution_count": 4,
   "metadata": {},
   "outputs": [],
   "source": [
    "import glob\n",
    "import re\n",
    "from datetime import date"
   ]
  },
  {
   "cell_type": "code",
   "execution_count": 5,
   "metadata": {},
   "outputs": [],
   "source": [
    "gldas_files = glob.glob(\"data/GLDAS*.tif\")\n",
    "grace_files = glob.glob(\"data/*GR*.tif\")"
   ]
  },
  {
   "cell_type": "code",
   "execution_count": 8,
   "metadata": {},
   "outputs": [],
   "source": [
    "dates_re = re.compile(r\"(?P<range>\\d{7}-\\d{7})\")"
   ]
  },
  {
   "cell_type": "code",
   "execution_count": 13,
   "metadata": {},
   "outputs": [
    {
     "name": "stdout",
     "output_type": "stream",
     "text": [
      "180 GLDAS Files\n",
      "183 GRACE Files\n"
     ]
    }
   ],
   "source": [
    "gldas_dates = {}\n",
    "print(len(gldas_files), \"GLDAS Files\")\n",
    "for f in sorted(gldas_files):\n",
    "    dates = re.search(dates_re, f).groupdict()\n",
    "    gldas_dates[dates[\"range\"]] = (f, dates)\n",
    "    # log(dates.values())\n",
    "\n",
    "grace_dates = {}\n",
    "print(len(grace_files), \"GRACE Files\")\n",
    "for f in sorted(grace_files):\n",
    "    dates = re.search(dates_re, f).groupdict()\n",
    "    grace_dates[dates[\"range\"]] = (f, dates)"
   ]
  },
  {
   "cell_type": "code",
   "execution_count": 14,
   "metadata": {},
   "outputs": [
    {
     "name": "stdout",
     "output_type": "stream",
     "text": [
      "2002095-2002120\n",
      "2002123-2002137\n",
      "2003274-2003304\n",
      "2007032-2007058\n",
      "2011289-2011319\n",
      "2011347-2012011\n",
      "2012080-2012109\n",
      "2012245-2012269\n",
      "2014001-2014016\n",
      "2014062-2014090\n",
      "2014305-2014334\n",
      "2015345-2016003\n",
      "2017123-2017142\n",
      "2017143-2017179\n",
      "2019026-2019065\n",
      "2020001-2020031\n",
      "2020032-2020060\n",
      "17 Unmatched files\n"
     ]
    }
   ],
   "source": [
    "count = 0\n",
    "for drange, (f, dates) in grace_dates.items():\n",
    "    if drange not in gldas_dates:\n",
    "        print(dates['range'])\n",
    "        count += 1\n",
    "print(count, \"Unmatched files\")"
   ]
  },
  {
   "cell_type": "code",
   "execution_count": null,
   "metadata": {},
   "outputs": [],
   "source": []
  },
  {
   "cell_type": "code",
   "execution_count": null,
   "metadata": {},
   "outputs": [],
   "source": []
  }
 ],
 "metadata": {
  "kernelspec": {
   "display_name": ".venv",
   "language": "python",
   "name": ".venv"
  },
  "language_info": {
   "codemirror_mode": {
    "name": "ipython",
    "version": 3
   },
   "file_extension": ".py",
   "mimetype": "text/x-python",
   "name": "python",
   "nbconvert_exporter": "python",
   "pygments_lexer": "ipython3",
   "version": "3.7.7"
  }
 },
 "nbformat": 4,
 "nbformat_minor": 4
}
